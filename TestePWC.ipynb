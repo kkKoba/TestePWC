{
  "nbformat": 4,
  "nbformat_minor": 0,
  "metadata": {
    "colab": {
      "provenance": []
    },
    "kernelspec": {
      "name": "python3",
      "display_name": "Python 3"
    },
    "language_info": {
      "name": "python"
    }
  },
  "cells": [
    {
      "cell_type": "markdown",
      "source": [
        "1. Reverta a ordem das palavras nas frases, mantendo a ordem das palavras.  A. Input \"Hello, World! OpenAI is amazing.\"                                b.Output. \"amazing is OpenAI World! Hello.\"\n"
      ],
      "metadata": {
        "id": "j5BhNHzb9TnT"
      }
    },
    {
      "cell_type": "code",
      "source": [
        "# declarando as variáveis\n",
        "\n",
        "frase = \"Hello, World! OpenAI is amazing.\"\n",
        "fraseTrocada = []\n",
        "continuidade = 0\n",
        "\n",
        "# Laço de repetição \"Para cada...\" junto a variável \"continuidade\" para definir de onde proseguir, com condicional \"Se ...\"\n",
        "# para identificar início e fim de cada palavra na string \"frase\",\n",
        "# e armazenar cada palavra em uma lista \"fraseTrocada\".\n",
        "\n",
        "for i in range (len(frase)):\n",
        "\n",
        "  if frase[i] == \" \":\n",
        "    fraseTrocada.append(frase[continuidade:i])\n",
        "    continuidade = i + 1\n",
        "\n",
        "# Segunda condicional para adicionar a lista \"fraseTrocada\" a última palava da String \"frase\".\n",
        "\n",
        "  elif frase[i] == frase[-1]:\n",
        "    fraseTrocada.append(frase[continuidade:])\n",
        "\n",
        "# Saída da frase com o parâmetro de inversão \"reverse\" da lista \"fraseTrocada\"\n",
        "continuidade = 0\n",
        "\n",
        "fraseTrocada.reverse()\n",
        "print(*fraseTrocada)"
      ],
      "metadata": {
        "colab": {
          "base_uri": "https://localhost:8080/"
        },
        "id": "WyY4RKtS-Co_",
        "outputId": "986e1ddb-28ac-44af-81f0-668edb4d26d7"
      },
      "execution_count": 3,
      "outputs": [
        {
          "output_type": "stream",
          "name": "stdout",
          "text": [
            "amazing. is OpenAI World! Hello,\n"
          ]
        }
      ]
    },
    {
      "cell_type": "code",
      "source": [
        "# declarando as variáveis, sendo \"frase\" um input do próprio usuário.\n",
        "\n",
        "frase = input(str(\"Digite uma frase para inverter a ordem das palavras: \"))\n",
        "fraseTrocada = []\n",
        "continuidade = 0\n",
        "\n",
        "# Laço de repetição \"Para cada...\" junto a variável \"continuidade\" para definir de onde proseguir, com condicional \"Se ...\"\n",
        "# para identificar início e fim de cada palavra na string \"frase\",\n",
        "# e armazenar cada palavra em uma lista \"fraseTrocada\".\n",
        "\n",
        "for i in range (len(frase)):\n",
        "  if frase[i] == \" \":\n",
        "    fraseTrocada.append(frase[continuidade:i])\n",
        "    continuidade = i + 1\n",
        "\n",
        "# Segunda condicional para adicionar a lista \"fraseTrocada\" a última palava da String \"frase\".\n",
        "\n",
        "  elif frase[i] == frase[-1]:\n",
        "    fraseTrocada.append(frase[continuidade:])\n",
        "\n",
        "# Saída da frase com o parâmetro de inversão \"reverse\" da lista \"fraseTrocada\"\n",
        "\n",
        "fraseTrocada.reverse()\n",
        "print(*fraseTrocada)"
      ],
      "metadata": {
        "colab": {
          "base_uri": "https://localhost:8080/"
        },
        "id": "tKsQBBE1Kh6J",
        "outputId": "1d50cfeb-7422-4bb9-888c-8ce12c9a7479"
      },
      "execution_count": 8,
      "outputs": [
        {
          "output_type": "stream",
          "name": "stdout",
          "text": [
            "Digite uma frase para inverter a ordem das palavras: Olá PWC, sou Rafael Kobayashi Santos, muito prazer.\n",
            "prazer. muito Santos, Kobayashi Rafael sou PWC, Olá\n"
          ]
        }
      ]
    },
    {
      "cell_type": "markdown",
      "source": [
        "2. Remova todos os caracteres duplicados da string abaixo. A. Input: \"Hello, World!\" B. Output: \"Helo Wrd!\"\n"
      ],
      "metadata": {
        "id": "fhimY9Lr-FnH"
      }
    },
    {
      "cell_type": "code",
      "source": [
        "# Declarando as variáveis.\n",
        "\n",
        "a = \"Hello World!\"\n",
        "b = []\n",
        "aux = set()\n",
        "\n",
        "# Estrutura de repetição para identificar e armazenar da string \"a\", letras que ainda não estão na lista \"b\" e armazená-la na lista.\n",
        "\n",
        "for i in range (len(a)):\n",
        "  if a[i] not in b:\n",
        "    b.append(a[i])\n",
        "\n",
        "# Saída da frase sem repetir nenhuma letra, usando o \"join(b)\"\" para retornar a lista como forma de string.\n",
        "\n",
        "print(''.join(b))"
      ],
      "metadata": {
        "colab": {
          "base_uri": "https://localhost:8080/"
        },
        "id": "WwpT8k2j-MdP",
        "outputId": "b4e5a202-e53c-4035-d0e3-1290fcb23469"
      },
      "execution_count": 9,
      "outputs": [
        {
          "output_type": "stream",
          "name": "stdout",
          "text": [
            "Helo Wrd!\n"
          ]
        }
      ]
    },
    {
      "cell_type": "code",
      "source": [
        "# Declarando as variáveis, sendo \"a\" um input do próprio usuário, dessa vez, sem excluir espaços, pontos e vírgulas da frase.\n",
        "\n",
        "a = input(str(\"Digite uma frase com letras repetidas:(Espaço, vírgulas e ponto final não contam) \"))\n",
        "b = []\n",
        "aux = set()\n",
        "\n",
        "# Estrutura de repetição para identificar e armazenar da string \"a\", letras que ainda não estão na lista \"b\" e armazená-la na lista.\n",
        "\n",
        "for i in range (len(a)):\n",
        "  if a[i] not in b or type(a[i]) is not str:\n",
        "    b.append(a[i])\n",
        "\n",
        "# Estrutura de repetição que não exclui espaços, pontos finais e vírgulas.\n",
        "\n",
        "  elif a[i] == \" \" or a[i] == \".\" or a[i] == \",\":\n",
        "    b.append(a[i])\n",
        "\n",
        "# Saída da frase sem repetir nenhuma letra, usando o \"join(b)\" para retornar a lista como forma de string.\n",
        "\n",
        "print(''.join(b))"
      ],
      "metadata": {
        "colab": {
          "base_uri": "https://localhost:8080/"
        },
        "id": "h_kJNA4CRaGq",
        "outputId": "b7581e3e-6476-4dcd-ab7e-9d94ab64695b"
      },
      "execution_count": null,
      "outputs": [
        {
          "output_type": "stream",
          "name": "stdout",
          "text": [
            "Digite uma frase com letras repetidas:(Espaço, vírgulas e ponto final não contam) Olá PWC, sou Rafael Kobayashi Santos, muito prazer.\n",
            "Olá PWC, sou Rafe Kbyhi Snt, m prz.\n"
          ]
        }
      ]
    },
    {
      "cell_type": "markdown",
      "source": [
        "3. Encontre a substring palindroma mais longa na string abaixo: A. input: \"babad\". B. Output: \"bab\" (Observação: pode haver várias saídas válidas, você só precisa retornar uma delas)."
      ],
      "metadata": {
        "id": "Y8jJ9iEd-cOF"
      }
    },
    {
      "cell_type": "code",
      "source": [
        "# Declarando as variáveis.\n",
        "\n",
        "palavra = \"babad\"\n",
        "\n",
        "# Condicional para verificar se a string \"palavra\" é menor que 2\n",
        "\n",
        "if len(palavra) < 2:\n",
        "  saida = palavra\n",
        "\n",
        "# Condicional \"Se não...\" para dar continuidade ao código.\n",
        "\n",
        "else:\n",
        "  inicio = fim = 0\n",
        "\n",
        "  for i in range(len(palavra)):\n",
        "\n",
        "# Estrutura de repetição para \"enquanto\" que procura pela substring palíndroma cujo tamanho seja ímpar.\n",
        "\n",
        "    esq = dir = i\n",
        "    while esq >= 0 and dir < len(palavra) and palavra[esq] == palavra[dir]:\n",
        "      esq -= 1\n",
        "      dir += 1\n",
        "    impar = dir - esq - 1\n",
        "\n",
        "# Condicional \"se\" para verificar se o tamanho da substring encontrada foi a maior até o momento, sendo essa substring um valor impar de tamanho.\n",
        "\n",
        "    tamanho = max(impar, fim - inicio)\n",
        "    if tamanho > fim - inicio:\n",
        "      inicio = i - (tamanho - 1) // 2\n",
        "      fim = i + tamanho // 2\n",
        "\n",
        "# Estrutura de repetição \"enquanto\" para \"enquanto\" que procura pela substring palíndroma cujo tamanho seja par.\n",
        "\n",
        "    esq = i\n",
        "    dir = i + 1\n",
        "    while esq >= 0 and dir < len(palavra) and palavra[esq] == palavra[dir]:\n",
        "        esq -= 1\n",
        "        dir += 1\n",
        "    par = dir - esq - 1\n",
        "\n",
        "# Condicional \"se\" para verificar se o tamanho da substring encontrada foi a maior até o momento, sendo essa substring um valor par de tamanho.\n",
        "\n",
        "    tamanho = max(par, fim - inicio)\n",
        "    if tamanho > fim - inicio:\n",
        "        inicio = i - (tamanho - 2) // 2\n",
        "        fim = i + 1 + tamanho // 2\n",
        "\n",
        "# Saída da maior substring palindroma.\n",
        "\n",
        "saida = palavra[inicio:fim+1]\n",
        "\n",
        "print(saida)"
      ],
      "metadata": {
        "colab": {
          "base_uri": "https://localhost:8080/"
        },
        "id": "d61Up0DoXXVK",
        "outputId": "9edd0d9f-f8d7-4d4f-f4eb-b26a42f60174"
      },
      "execution_count": 47,
      "outputs": [
        {
          "output_type": "stream",
          "name": "stdout",
          "text": [
            "aba\n"
          ]
        }
      ]
    },
    {
      "cell_type": "code",
      "source": [
        "# Declarando as variáveis, sendo palavra uma string determinada pelo usuário.\n",
        "\n",
        "palavra = input(str(\"Digite uma palavra para encontrar a substring palindroma: \"))\n",
        "\n",
        "# Condicional para verificar se a string \"palavra\" é menor que 2\n",
        "\n",
        "if len(palavra) < 2:\n",
        "  saida = palavra\n",
        "\n",
        "# Condicional \"Se não...\" para dar continuidade ao código.\n",
        "\n",
        "else:\n",
        "  inicio = fim = 0\n",
        "\n",
        "  for i in range(len(palavra)):\n",
        "\n",
        "# Estrutura de repetição para \"enquanto\" que procura pela substring palíndroma cujo tamanho seja ímpar.\n",
        "\n",
        "    esq = dir = i\n",
        "    while esq >= 0 and dir < len(palavra) and palavra[esq] == palavra[dir]:\n",
        "      esq -= 1\n",
        "      dir += 1\n",
        "    impar = dir - esq - 1\n",
        "\n",
        "# Condicional \"se\" para verificar se o tamanho da substring encontrada foi a maior até o momento, sendo essa substring um valor impar de tamanho.\n",
        "\n",
        "    tamanho = max(impar, fim - inicio)\n",
        "    if tamanho > fim - inicio:\n",
        "      inicio = i - (tamanho - 1) // 2\n",
        "      fim = i + tamanho // 2\n",
        "\n",
        "# Estrutura de repetição \"enquanto\" para \"enquanto\" que procura pela substring palíndroma cujo tamanho seja par.\n",
        "\n",
        "    esq = i\n",
        "    dir = i + 1\n",
        "    while esq >= 0 and dir < len(palavra) and palavra[esq] == palavra[dir]:\n",
        "        esq -= 1\n",
        "        dir += 1\n",
        "    par = dir - esq - 1\n",
        "\n",
        "# Condicional \"se\" para verificar se o tamanho da substring encontrada foi a maior até o momento, sendo essa substring um valor par de tamanho.\n",
        "\n",
        "    tamanho = max(par, fim - inicio)\n",
        "    if tamanho > fim - inicio:\n",
        "        inicio = i - (tamanho - 2) // 2\n",
        "        fim = i + 1 + tamanho // 2\n",
        "\n",
        "# Saída da maior substring palindroma.\n",
        "\n",
        "saida = palavra[inicio:fim+1]\n",
        "\n",
        "print(saida)"
      ],
      "metadata": {
        "colab": {
          "base_uri": "https://localhost:8080/"
        },
        "id": "irDiF6_ICR44",
        "outputId": "98978e51-a89c-4fe9-a345-bd5b9775ea16"
      },
      "execution_count": 49,
      "outputs": [
        {
          "output_type": "stream",
          "name": "stdout",
          "text": [
            "Digite uma palavra para encontrar a substring palindroma: paralelepipedo\n",
            "epipe\n"
          ]
        }
      ]
    },
    {
      "cell_type": "markdown",
      "source": [
        "4. Coloque em maiúscula a primeira letra de cada frase na string: A.Input: \"hello, how are you? i'm fine, thank you.\" B.Output:\"Hello. How are you? I'm fine, thank you.\"\n"
      ],
      "metadata": {
        "id": "06ruaV3q_AVu"
      }
    },
    {
      "cell_type": "code",
      "source": [
        "# Declarando as variáveis\n",
        "\n",
        "frase = \"hello. how are you? i'm fine, thank you.\"\n",
        "fraseCortada = []\n",
        "capitalizado = []\n",
        "continuidade = 0\n",
        "\n",
        "# Laço de repetição para separar as frases da string \"frase\" e armazenar na lista \"fraseCortada\".\n",
        "\n",
        "for i in range (len(frase)):\n",
        "\n",
        "  if frase[i] == \"?\" or frase[i] == \".\":\n",
        "    fraseCortada.append(frase[continuidade:i+1])\n",
        "    continuidade = i + 2\n",
        "\n",
        "# Laço de repetição para colocar em maiúsculo o início das frases da lista \"fraseCortada\" e armazenar na lista \"captalizado\".\n",
        "\n",
        "for i in range (len(fraseCortada)):\n",
        "  capitalizado.append(fraseCortada[i].capitalize())\n",
        "\n",
        "# Saída das palavras iniciais em maiúsculo.\n",
        "\n",
        "print(*capitalizado)"
      ],
      "metadata": {
        "colab": {
          "base_uri": "https://localhost:8080/"
        },
        "id": "3SV6INpY_kKw",
        "outputId": "484bf167-c239-45aa-f2a3-fde9f4271c40"
      },
      "execution_count": 21,
      "outputs": [
        {
          "output_type": "stream",
          "name": "stdout",
          "text": [
            "Hello. How are you? I'm fine, thank you.\n"
          ]
        }
      ]
    },
    {
      "cell_type": "code",
      "source": [
        "# Declarando as variáveis, onde \"fraseInput\" é definida pelo usuário.\n",
        "\n",
        "fraseInput = input(str(\"Digite uma frase com pontos e interrogação, tudo minúsculo para o código adequar as letras maiúsculas após os sinais. \"))\n",
        "fraseCortada = []\n",
        "final = []\n",
        "continuidade = 0\n",
        "contador = 0\n",
        "\n",
        "# Laço de repetição com condicional para ver quantos acentos são utilizados para a frase.\n",
        "\n",
        "for i in range (len(fraseInput)):\n",
        "\n",
        "  if fraseInput[i] == \"?\" or fraseInput[i] == \".\" or fraseInput[i] == \"!\":\n",
        "\n",
        "    contador += 1\n",
        "\n",
        "# condicional para averiguar se a frase possui menos de dois acentos.\n",
        "\n",
        "if contador <= 1:\n",
        "  print (fraseInput.capitalize())\n",
        "\n",
        "# Laço de repetição para separar as frases da string \"frase\" e armazenar na lista \"fraseCortada\".\n",
        "\n",
        "elif contador > 1:\n",
        "\n",
        "  for i in range (len(fraseInput)):\n",
        "\n",
        "    if fraseInput[i] == \"?\" or fraseInput[i] == \".\" or fraseInput[i] == \"!\":\n",
        "      fraseCortada.append(fraseInput[continuidade:i+1])\n",
        "      continuidade = i + 2\n",
        "\n",
        "# Laço de repetição para colocar em maiúsculo o início das frases da lista \"fraseCortada\" e armazenar na lista \"captalizado\".\n",
        "\n",
        "for i in range (len(fraseCortada)):\n",
        "  final.append(fraseCortada[i].capitalize())\n",
        "\n",
        "# Saída das palavras iniciais em maiúsculo com dois ou mais acentos.\n",
        "\n",
        "print(*final)"
      ],
      "metadata": {
        "colab": {
          "base_uri": "https://localhost:8080/"
        },
        "id": "Otc5_UfOv6jw",
        "outputId": "c62ecd1b-1268-48e8-ff4e-39de5454598e"
      },
      "execution_count": 45,
      "outputs": [
        {
          "output_type": "stream",
          "name": "stdout",
          "text": [
            "Digite uma frase com pontos e interrogação, tudo minúsculo para o código adequar as letras maiúsculas após os sinais. olá pwc! tudo bem? sou rafael kobayashi, muito prazer.\n",
            "Olá pwc! Tudo bem? Sou rafael kobayashi, muito prazer.\n"
          ]
        }
      ]
    }
  ]
}