{
  "nbformat": 4,
  "nbformat_minor": 0,
  "metadata": {
    "colab": {
      "provenance": []
    },
    "kernelspec": {
      "name": "python3",
      "display_name": "Python 3"
    },
    "language_info": {
      "name": "python"
    }
  },
  "cells": [
    {
      "cell_type": "markdown",
      "source": [
        "1. Reverta a ordem das palavras nas frases, mantendo a ordem das palavras.  A. Input \"Hello, World! OpenAI is amazing.\"                                b.Output. \"amazing is OpenAI World! Hello.\"\n"
      ],
      "metadata": {
        "id": "j5BhNHzb9TnT"
      }
    },
    {
      "cell_type": "code",
      "source": [],
      "metadata": {
        "id": "mAFMKiBmFfmg"
      },
      "execution_count": null,
      "outputs": []
    },
    {
      "cell_type": "code",
      "source": [
        "frase = \"Hello, World! OpenAI is amazing.\"\n",
        "fraseTrocada = []\n",
        "continuidade = 0\n",
        "\n",
        "for i in range (len(frase)):\n",
        "\n",
        "  if frase[i] == \" \":\n",
        "    fraseTrocada.append(frase[continuidade:i])\n",
        "    continuidade = i + 1\n",
        "\n",
        "  elif frase[i] == frase[-1]:\n",
        "    fraseTrocada.append(frase[continuidade:])\n",
        "\n",
        "fraseTrocada.reverse()\n",
        "print(*fraseTrocada)"
      ],
      "metadata": {
        "colab": {
          "base_uri": "https://localhost:8080/"
        },
        "id": "WyY4RKtS-Co_",
        "outputId": "6767e554-a338-4094-98de-8a225cecd3b8"
      },
      "execution_count": null,
      "outputs": [
        {
          "output_type": "stream",
          "name": "stdout",
          "text": [
            "amazing. is OpenAI World! Hello,\n"
          ]
        }
      ]
    },
    {
      "cell_type": "code",
      "source": [
        "frase = input(str(\"Digite uma frase para inverter a ordem das palavras: \"))\n",
        "fraseTrocada = []\n",
        "continuidade = 0\n",
        "for i in range (len(frase)):\n",
        "  if frase[i] == \" \":\n",
        "    fraseTrocada.append(frase[continuidade:i])\n",
        "    continuidade = i + 1\n",
        "  elif frase[i] == frase[-1]:\n",
        "    fraseTrocada.append(frase[continuidade:])\n",
        "fraseTrocada.reverse()\n",
        "print(*fraseTrocada)"
      ],
      "metadata": {
        "colab": {
          "base_uri": "https://localhost:8080/"
        },
        "id": "tKsQBBE1Kh6J",
        "outputId": "c06f8216-e01e-42f0-a70f-e15ccc6a66d4"
      },
      "execution_count": null,
      "outputs": [
        {
          "output_type": "stream",
          "name": "stdout",
          "text": [
            "Digite uma frase para inverter a ordem das palavras: prazer. muito Santos, Kobayashi Rafael pwc,sou Olá\n",
            "Olá pwc,sou Rafael Kobayashi Santos, muito prazer.\n"
          ]
        }
      ]
    },
    {
      "cell_type": "markdown",
      "source": [
        "2. Remova todos os caracteres duplicados da string abaixo. A. Input: \"Hello, World!\" B. Output: \"Helo Wrd!\"\n"
      ],
      "metadata": {
        "id": "fhimY9Lr-FnH"
      }
    },
    {
      "cell_type": "code",
      "source": [
        "a = \"Hello World!\"\n",
        "b = []\n",
        "aux = set()\n",
        "for i in range (len(a)):\n",
        "  if a[i] not in b:\n",
        "    b.append(a[i])\n",
        "print(''.join(b))"
      ],
      "metadata": {
        "colab": {
          "base_uri": "https://localhost:8080/"
        },
        "id": "WwpT8k2j-MdP",
        "outputId": "bdef4c0f-0867-40a7-8a28-d8157b032f0e"
      },
      "execution_count": null,
      "outputs": [
        {
          "output_type": "stream",
          "name": "stdout",
          "text": [
            "Helo Wrd!\n"
          ]
        }
      ]
    },
    {
      "cell_type": "code",
      "source": [
        "a = input(str(\"Digite uma frase com letras repetidas:(Espaço, vírgulas e ponto final não contam) \"))\n",
        "b = []\n",
        "aux = set()\n",
        "for i in range (len(a)):\n",
        "  if a[i] not in b or type(a[i]) is not str:\n",
        "    b.append(a[i])\n",
        "  elif a[i] == \" \" or a[i] == \".\" or a[i] == \",\":\n",
        "    b.append(a[i])\n",
        "print(''.join(b))"
      ],
      "metadata": {
        "colab": {
          "base_uri": "https://localhost:8080/"
        },
        "id": "h_kJNA4CRaGq",
        "outputId": "b7581e3e-6476-4dcd-ab7e-9d94ab64695b"
      },
      "execution_count": null,
      "outputs": [
        {
          "output_type": "stream",
          "name": "stdout",
          "text": [
            "Digite uma frase com letras repetidas:(Espaço, vírgulas e ponto final não contam) Olá PWC, sou Rafael Kobayashi Santos, muito prazer.\n",
            "Olá PWC, sou Rafe Kbyhi Snt, m prz.\n"
          ]
        }
      ]
    },
    {
      "cell_type": "markdown",
      "source": [
        "3. Encontre a substring palindroma mais longa na string abaixo: A. input: \"babad\". B. Output: \"bab\" (Observação: pode haver várias saídas válidas, você só precisa retornar uma delas)."
      ],
      "metadata": {
        "id": "Y8jJ9iEd-cOF"
      }
    },
    {
      "cell_type": "code",
      "source": [
        "palavra = \"racecar\"\n",
        "if len(palavra) < 2:\n",
        "    saida = palavra\n",
        "else:\n",
        "    inicio = fim = 0\n",
        "\n",
        "    for i in range(len(palavra)):\n",
        "\n",
        "        esq = dir = i\n",
        "        while esq >= 0 and dir < len(palavra) and palavra[esq] == palavra[dir]:\n",
        "            esq -= 1\n",
        "            dir += 1\n",
        "        impar = dir - esq - 1\n",
        "\n",
        "        tamanho = max(impar, fim - inicio)\n",
        "        if tamanho > fim - inicio:\n",
        "            inicio = i - (tamanho - 1) // 2\n",
        "            fim = i + tamanho // 2\n",
        "\n",
        "        esq = i\n",
        "        dir = i + 1\n",
        "        while esq >= 0 and dir < len(palavra) and palavra[esq] == palavra[dir]:\n",
        "            esq -= 1\n",
        "            dir += 1\n",
        "        par = dir - esq - 1\n",
        "\n",
        "        tamanho = max(par, fim - inicio)\n",
        "        if tamanho > fim - inicio:\n",
        "            inicio = i - (tamanho - 2) // 2\n",
        "            fim = i + 1 + tamanho // 2\n",
        "\n",
        "    saida = palavra[inicio:fim+1]\n",
        "\n",
        "print(saida)"
      ],
      "metadata": {
        "colab": {
          "base_uri": "https://localhost:8080/"
        },
        "id": "d61Up0DoXXVK",
        "outputId": "bf9df77b-bb82-4504-cf3e-ee1191f8f660"
      },
      "execution_count": 2,
      "outputs": [
        {
          "output_type": "stream",
          "name": "stdout",
          "text": [
            "racecar\n"
          ]
        }
      ]
    },
    {
      "cell_type": "markdown",
      "source": [
        "4. Coloque em maiúscula a primeira letra de cada frase na string: A.Input: \"hello, how are you? i'm fine, thank you.\" B.Output:\"Hello. How are you? I'm fine, thank you.\"\n"
      ],
      "metadata": {
        "id": "06ruaV3q_AVu"
      }
    },
    {
      "cell_type": "code",
      "source": [
        "frase = \"hello. how are you? i'm fine, thank you.\"\n",
        "FraseCortada = []\n",
        "captalizado = []\n",
        "continuidade = 0\n",
        "\n",
        "for i in range (len(frase)):\n",
        "\n",
        "  if frase[i] == \"?\" or frase[i] == \".\":\n",
        "    FraseCortada.append(frase[continuidade:i+1])\n",
        "    continuidade = i + 2\n",
        "for i in range (len(FraseCortada)):\n",
        "  captalizado.append(FraseCortada[i].capitalize())\n",
        "\n",
        "print(*captalizado)"
      ],
      "metadata": {
        "colab": {
          "base_uri": "https://localhost:8080/"
        },
        "id": "3SV6INpY_kKw",
        "outputId": "4bc353d6-14fb-4c50-b69a-a3f0d359e812"
      },
      "execution_count": null,
      "outputs": [
        {
          "output_type": "stream",
          "name": "stdout",
          "text": [
            "Hello. How are you? I'm fine, thank you.\n"
          ]
        }
      ]
    },
    {
      "cell_type": "code",
      "source": [
        "fraseInput = input(str(\"Digite uma frase com pontos e interrogação, tudo minúsculo para o código adequar as letras maiúsculas após os sinais. \"))\n",
        "captalizado = []\n",
        "continuidade = 0\n",
        "\n",
        "for i in range (len(frase)):\n",
        "\n",
        "  if fraseInput[i] == \"?\" or frase[i] == \".\":\n",
        "    FraseCortada.append(fraseInput[continuidade:i+1])\n",
        "    continuidade = i + 2\n",
        "\n",
        "for i in range (len(FraseCortada)):\n",
        "  captalizado.append(FraseCortada[i].capitalize())\n",
        "\n",
        "print(*captalizado)"
      ],
      "metadata": {
        "colab": {
          "base_uri": "https://localhost:8080/"
        },
        "id": "Otc5_UfOv6jw",
        "outputId": "fa1678f2-efb7-4c69-a5ab-d9ee10acf2a9"
      },
      "execution_count": null,
      "outputs": [
        {
          "output_type": "stream",
          "name": "stdout",
          "text": [
            "Digite uma frase com pontos e interrogação, tudo minúsculo para o código adequar as letras maiúsculas após os sinais. Olá, tudo bem?  muito prazer. Estou muito ansioso para conhecer vocês.\n",
            "Hello. How are you? I'm fine, thank you. Olá, tudo bem?  muito prazer. Estou muito ansioso para conhecer vocês. Olá, tudo bem?  muito prazer. Estou muito ansioso para conhecer vocês. Olá, tudo bem?  muito prazer. Estou muito ansioso para conhecer vocês.\n"
          ]
        }
      ]
    }
  ]
}