{
  "nbformat": 4,
  "nbformat_minor": 0,
  "metadata": {
    "colab": {
      "provenance": []
    },
    "kernelspec": {
      "name": "python3",
      "display_name": "Python 3"
    },
    "language_info": {
      "name": "python"
    }
  },
  "cells": [
    {
      "cell_type": "code",
      "execution_count": null,
      "metadata": {
        "id": "lNAdHy8V9Nc5"
      },
      "outputs": [],
      "source": []
    },
    {
      "cell_type": "markdown",
      "source": [
        "1. Reverta a ordem das palavras nas frases, mantendo a ordem das palavras.  A. Input \"Hello, World! OpenAI is amazing.\"                                b.Output. \"amazing is OpenAI World! Hello.\"\n"
      ],
      "metadata": {
        "id": "j5BhNHzb9TnT"
      }
    },
    {
      "cell_type": "code",
      "source": [],
      "metadata": {
        "id": "WyY4RKtS-Co_"
      },
      "execution_count": null,
      "outputs": []
    },
    {
      "cell_type": "markdown",
      "source": [
        "2. Remova todos os caracteres duplicados da string abaixo. A. Input: \"Hello, World!\" B. Output: \"Helo Wrd!\"\n"
      ],
      "metadata": {
        "id": "fhimY9Lr-FnH"
      }
    },
    {
      "cell_type": "code",
      "source": [],
      "metadata": {
        "id": "WwpT8k2j-MdP"
      },
      "execution_count": null,
      "outputs": []
    },
    {
      "cell_type": "markdown",
      "source": [
        "3. Encontre a substring palindroma mais longa na string abaixo: A. input: \"babad\". B. Output: \"bab\" (Observação: pode haver várias saídas válidas, você só precisa retornar uma delas)."
      ],
      "metadata": {
        "id": "Y8jJ9iEd-cOF"
      }
    },
    {
      "cell_type": "markdown",
      "source": [
        "4. Coloque em maiúscula a primeira letra de cada frase na string: A.Input: \"hello, how are you? i'm fine, thank you.\" B.Output:\"Hello. How are you? I'm fine, thank you.\"\n"
      ],
      "metadata": {
        "id": "06ruaV3q_AVu"
      }
    },
    {
      "cell_type": "code",
      "source": [],
      "metadata": {
        "id": "3SV6INpY_kKw"
      },
      "execution_count": null,
      "outputs": []
    }
  ]
}